{
 "cells": [
  {
   "cell_type": "raw",
   "metadata": {},
   "source": [
    "Q1. Write a Python program to get the string from the given string where all the occurrence of its first char has been changed to '$,' except first char itself? \n",
    "\n",
    "Sample String: 'prospect' \n",
    "Expected Result : 'pros$ect'"
   ]
  },
  {
   "cell_type": "code",
   "execution_count": 25,
   "metadata": {},
   "outputs": [
    {
     "name": "stdout",
     "output_type": "stream",
     "text": [
      "pros$ect\n"
     ]
    }
   ],
   "source": [
    "def replacechar(str1):\n",
    "    char = str1[0]\n",
    "    str1 = str1.replace(char,'$')\n",
    "    str1 = char + str1[1:]\n",
    "    return str1\n",
    "print(replacechar('prospect'))"
   ]
  },
  {
   "cell_type": "raw",
   "metadata": {},
   "source": [
    "Q2. Write a Python program to get the single string from the two given strings, and separated by the space and swap the first two characters of each string? \n",
    "\n",
    "Sample String : 'abc', 'xyz'. \n",
    "Expected Result: 'xyc abz'"
   ]
  },
  {
   "cell_type": "code",
   "execution_count": 36,
   "metadata": {},
   "outputs": [
    {
     "data": {
      "text/plain": [
       "'xyc, abz'"
      ]
     },
     "execution_count": 36,
     "metadata": {},
     "output_type": "execute_result"
    }
   ],
   "source": [
    "def swapchar(a,b):\n",
    "    new_a=b[:2]+a[2]\n",
    "    new_b=a[:2]+b[2]\n",
    "    str1 = new_a + ', ' + new_b\n",
    "    return str1\n",
    "swapchar('abc', 'xyz')    "
   ]
  },
  {
   "cell_type": "raw",
   "metadata": {},
   "source": [
    "Q3. Write the Python program to add 'ing' at the end of the given string (length of the string should be at least 3). If given string already ends with 'ing,' then add 'ly' instead. If string length of the given string is less than 3, leave it unchanged?\n",
    "\n",
    "Sample string: ' abc ' \n",
    "Expected result: ' abcing ' \n",
    "Sample string: ' string ' \n",
    "Expected result: ' stringly '"
   ]
  },
  {
   "cell_type": "code",
   "execution_count": 51,
   "metadata": {},
   "outputs": [
    {
     "name": "stdout",
     "output_type": "stream",
     "text": [
      "ab\n",
      "abcing\n",
      "stringly\n"
     ]
    }
   ],
   "source": [
    "def adding(str1):\n",
    "    if len(str1)>2:\n",
    "        if str1[-3:]=='ing':\n",
    "            str1 = str1 + 'ly'\n",
    "        else:\n",
    "            str1 = str1 + 'ing'\n",
    "    return str1\n",
    "print(adding('ab'))\n",
    "print(adding('abc'))\n",
    "print(adding('string'))"
   ]
  },
  {
   "cell_type": "raw",
   "metadata": {},
   "source": [
    "Q4. Write the Python program to find the first appearance of the substring 'not' and 'poor' from the given string, if 'not' follows the 'poor', replace the whole 'not'...' poor' substring with 'good'.Return the resulting string.\n",
    "\n",
    "Sample string: 'The lyrics are not that poor!' 'The lyrics are poor!' \n",
    "Expected Result: 'The lyrics are good!' 'The lyrics are poor!'"
   ]
  },
  {
   "cell_type": "code",
   "execution_count": 59,
   "metadata": {},
   "outputs": [
    {
     "name": "stdout",
     "output_type": "stream",
     "text": [
      "The lyrics are good!The lyrics are poor!\n"
     ]
    }
   ],
   "source": [
    "def findsubstring(str1):\n",
    "    find_not = str1.find('not')\n",
    "    find_poor = str1.find('poor')\n",
    "    if find_poor>find_not and find_not>0 and find_poor>0:\n",
    "        str1 = str1.replace(str1[find_not:(find_poor+4)],'good')\n",
    "    return str1\n",
    "print(findsubstring('The lyrics are not that poor!' 'The lyrics are poor!'))"
   ]
  },
  {
   "cell_type": "raw",
   "metadata": {},
   "source": [
    "Q5. Write the Python program to remove the characters which have odd index values of a given string."
   ]
  },
  {
   "cell_type": "code",
   "execution_count": 65,
   "metadata": {},
   "outputs": [
    {
     "data": {
      "text/plain": [
       "'Nvn'"
      ]
     },
     "execution_count": 65,
     "metadata": {},
     "output_type": "execute_result"
    }
   ],
   "source": [
    "def removeoddchars(str1):\n",
    "    result = \"\"\n",
    "    for i in range(len(str1)):\n",
    "        if i % 2 == 0:\n",
    "            result = result + str1[i]\n",
    "    return result\n",
    "removeoddchars('Navin')    "
   ]
  },
  {
   "cell_type": "raw",
   "metadata": {},
   "source": [
    "Q6. Write the Python function to get a string made of 4 copies of the last two characters of the specified string (length must be at least 2).\n",
    "\n",
    "Sample function and result : \n",
    "insert-end ('Python') -> onononon \n",
    "insert-end('Exercises') -> eseseses"
   ]
  },
  {
   "cell_type": "code",
   "execution_count": 77,
   "metadata": {},
   "outputs": [
    {
     "name": "stdout",
     "output_type": "stream",
     "text": [
      "onononon\n",
      "eseseses\n",
      "n\n"
     ]
    }
   ],
   "source": [
    "def insert_end(str1):\n",
    "    sub_str =\"\"\n",
    "    if len(str1)>1:\n",
    "        sub_str = str1[-2:]\n",
    "        return sub_str*4\n",
    "    else:\n",
    "        return str1\n",
    "print(insert_end('Python'))\n",
    "print(insert_end('Exercises'))\n",
    "print(insert_end('n'))"
   ]
  },
  {
   "cell_type": "raw",
   "metadata": {},
   "source": [
    "Q7. Write the python function to get a string made of its first three characters of a specified string. If the length of the string is less than 3 then return the original string.\n",
    "\n",
    "Sample function and result : \n",
    "first-three('ipy') -> ipy \n",
    "first-three('python') -> pyt"
   ]
  },
  {
   "cell_type": "code",
   "execution_count": 83,
   "metadata": {},
   "outputs": [
    {
     "name": "stdout",
     "output_type": "stream",
     "text": [
      "ipy\n",
      "pyt\n",
      "nav\n",
      "na\n"
     ]
    }
   ],
   "source": [
    "def first_three(str1):\n",
    "    if len(str1)>2:\n",
    "        sub_str = str1[0:3]\n",
    "        return sub_str\n",
    "    else:\n",
    "        return str1\n",
    "print(first_three('ipy'))\n",
    "print(first_three('python'))\n",
    "print(first_three('nav'))\n",
    "print(first_three('na'))"
   ]
  },
  {
   "cell_type": "raw",
   "metadata": {},
   "source": [
    "Q8. Write the python program to print the following floating numbers up to 2 decimal places?"
   ]
  },
  {
   "cell_type": "code",
   "execution_count": 90,
   "metadata": {},
   "outputs": [
    {
     "name": "stdout",
     "output_type": "stream",
     "text": [
      "\n",
      "Original Number: 3.1415926\n",
      "Formatted Number upto 2 decimals:3.14\n",
      "\n",
      "Original Number: 12.999\n",
      "Formatted Number upto 2 decimals:13.00\n"
     ]
    }
   ],
   "source": [
    "def print2decimals(a):\n",
    "    print(\"\\nOriginal Number:\",a)\n",
    "    print(\"Formatted Number upto 2 decimals:\"+\"{:.2f}\".format(a))\n",
    "print2decimals(3.1415926)\n",
    "print2decimals(12.999)"
   ]
  },
  {
   "cell_type": "raw",
   "metadata": {},
   "source": [
    "Q9. Write the Python program to format a number with a percentage?"
   ]
  },
  {
   "cell_type": "code",
   "execution_count": 1,
   "metadata": {},
   "outputs": [
    {
     "name": "stdout",
     "output_type": "stream",
     "text": [
      "Formatted Number in percentage:25.00%\n"
     ]
    }
   ],
   "source": [
    "def formatpercentage(num):\n",
    "    print(\"Formatted Number in percentage:\"+\"{:.2%}\".format(num))\n",
    "formatpercentage(0.25)"
   ]
  },
  {
   "cell_type": "raw",
   "metadata": {},
   "source": [
    "Q10. Write the Python program to count occurrences of a substring in a String?"
   ]
  },
  {
   "cell_type": "code",
   "execution_count": 4,
   "metadata": {},
   "outputs": [
    {
     "data": {
      "text/plain": [
       "2"
      ]
     },
     "execution_count": 4,
     "metadata": {},
     "output_type": "execute_result"
    }
   ],
   "source": [
    "def substringcount(substr, str1):\n",
    "    return str1.count(substr)\n",
    "substringcount('house','there is a fox in our house and neighbouring house')"
   ]
  },
  {
   "cell_type": "raw",
   "metadata": {},
   "source": [
    "Q11. Write the Python program to count repeated characters in a string.\n",
    "\n",
    "Sample string: ' thequickbrownjumpsoverthelazydog ' \n",
    "Expected output: \n",
    "o 3 \n",
    "e 3 \n",
    "u 2 \n",
    "h 2\n",
    "r 2 \n",
    "t 2"
   ]
  },
  {
   "cell_type": "code",
   "execution_count": 8,
   "metadata": {},
   "outputs": [
    {
     "name": "stdout",
     "output_type": "stream",
     "text": [
      "o 3\n",
      "e 3\n",
      "u 2\n",
      "h 2\n",
      "r 2\n",
      "t 2\n"
     ]
    }
   ],
   "source": [
    "def countchars(str1):\n",
    "    print('o',str1.count('o'))\n",
    "    print('e',str1.count('e'))\n",
    "    print('u',str1.count('u'))\n",
    "    print('h',str1.count('h'))\n",
    "    print('r',str1.count('r'))\n",
    "    print('t',str1.count('t'))\n",
    "countchars('thequickbrownjumpsoverthelazydog')"
   ]
  },
  {
   "cell_type": "code",
   "execution_count": 26,
   "metadata": {},
   "outputs": [
    {
     "name": "stdout",
     "output_type": "stream",
     "text": [
      "o 3\n"
     ]
    }
   ],
   "source": [
    "import re\n",
    "def countchars(str1):\n",
    "    print('o',len(re.findall('o', str1)))\n",
    "countchars('thequickbrownjumpsoverthelazydog')"
   ]
  },
  {
   "cell_type": "raw",
   "metadata": {},
   "source": [
    "Q12. Write the Python program to print the square and cube symbol in the area of a rectangle and volume of a cylinder? \n",
    "\n",
    "Sample output- \n",
    "The area of the rectangle is 1256.66cm2 \n",
    "The volume of the cylinder is 1254.725cm3"
   ]
  },
  {
   "cell_type": "code",
   "execution_count": 20,
   "metadata": {},
   "outputs": [
    {
     "name": "stdout",
     "output_type": "stream",
     "text": [
      "The area of the rectangle is 1256.66cm²\n",
      "The volume of the cylinder is 1254.725³\n"
     ]
    }
   ],
   "source": [
    "def printSuperscript():\n",
    "    print(\"The area of the rectangle is 1256.66cm\\u00b2\")\n",
    "    print(\"The volume of the cylinder is 1254.725\\u00b3\")\n",
    "printSuperscript()"
   ]
  },
  {
   "cell_type": "raw",
   "metadata": {},
   "source": [
    "Q13. Write the Python program to check if a string contains all letters of the alphabet?"
   ]
  },
  {
   "cell_type": "code",
   "execution_count": 34,
   "metadata": {},
   "outputs": [
    {
     "name": "stdout",
     "output_type": "stream",
     "text": [
      "Yes\n",
      "No\n"
     ]
    }
   ],
   "source": [
    "import string\n",
    "alphabet = set(string.ascii_lowercase)\n",
    "def ispanagram(str1):\n",
    "    if set(str1) >= alphabet:\n",
    "        return \"Yes\"\n",
    "    else:\n",
    "        return \"No\"\n",
    "        \n",
    "print(ispanagram(\"The quick brown fox jumps over the lazy dog\"))\n",
    "print(ispanagram(\"Naveen Kumar\"))"
   ]
  },
  {
   "cell_type": "raw",
   "metadata": {},
   "source": [
    "Q14. Write the Python program to find the second most repeated word in a given string?"
   ]
  },
  {
   "cell_type": "code",
   "execution_count": 9,
   "metadata": {},
   "outputs": [
    {
     "name": "stdout",
     "output_type": "stream",
     "text": [
      "('Heroes', 2)\n"
     ]
    }
   ],
   "source": [
    "def word_count(str1):\n",
    "    counts = dict()\n",
    "    words = str1.split()\n",
    "    \n",
    "    for word in words:\n",
    "        if word in counts:\n",
    "            counts[word] += 1\n",
    "        else:\n",
    "            counts[word] = 1\n",
    "    \n",
    "    counts_x = sorted(counts.items(),key=lambda kv: kv[1])\n",
    "    #print(counts_x)\n",
    "    return counts_x[-2]\n",
    "\n",
    "print(word_count(\"Heroes like Super man, Wonder Woman, Spider man, Bat man, Captain America, Iron Man are all super Heroes in cinemas only\"))\n",
    "    "
   ]
  },
  {
   "cell_type": "raw",
   "metadata": {},
   "source": [
    "Q15. Write the Python program to find the minimum window in the given string, which will contains all the characters of another given strings?\n",
    "\n",
    "Example 1 \n",
    "Input : \n",
    "string1 = \" PRWSOERIUSFK \" \n",
    "string2 = \" OSU \" \n",
    "Output: Minimum window is \"OERIUS\""
   ]
  },
  {
   "cell_type": "code",
   "execution_count": 16,
   "metadata": {},
   "outputs": [
    {
     "name": "stdout",
     "output_type": "stream",
     "text": [
      "Original Strings:\n",
      " PRWSOERIUSFK \n",
      " OSU\n",
      "Minimum window:\n",
      "OERIUS\n"
     ]
    }
   ],
   "source": [
    "import collections \n",
    "def min_window(str1, str2): \n",
    "    result_char, missing_char = collections.Counter(str2), len(str2) \n",
    "    i = p = q = 0 \n",
    "    for j, c in enumerate(str1, 1): \n",
    "        missing_char -= result_char[c] > 0 \n",
    "        result_char[c] -= 1 \n",
    "        if not missing_char: \n",
    "            while i < q and result_char[str1[i]] < 0:\n",
    "                result_char[str1[i]] += 1 \n",
    "                i += 1 \n",
    "            if not q or j - i <= q - p:\n",
    "                p, q = i, j \n",
    "    return str1[p:q]\n",
    "\n",
    "str1 = \"PRWSOERIUSFK\" \n",
    "str2 = \"OSU\"\n",
    "print(\"Original Strings:\\n\",str1,\"\\n\",str2)\n",
    "print(\"Minimum window:\") \n",
    "print(min_window(str1,str2))"
   ]
  },
  {
   "cell_type": "raw",
   "metadata": {},
   "source": [
    "Q16. Write the Python program to find smallest window that contains all characters of the given string?\n",
    "Original Strings: asdaewsqgtwwsa \n",
    "Smallest window that contains all characters of the said string:Daewsqgt"
   ]
  },
  {
   "cell_type": "code",
   "execution_count": 24,
   "metadata": {},
   "outputs": [
    {
     "name": "stdout",
     "output_type": "stream",
     "text": [
      "Original Strings:\n",
      " asdaewsqgtwwsa\n",
      "\n",
      "Smallest window that contains all characters of the said string:\n",
      "daewsqgt\n"
     ]
    }
   ],
   "source": [
    "from collections import defaultdict\n",
    "def find_sub_string(str): \n",
    "    str_len = len(str) \n",
    "      \n",
    "    # Count all distinct characters. \n",
    "    dist_count_char = len(set([x for x in str])) \n",
    "  \n",
    "    ctr, start_pos, start_pos_index, min_len = 0, 0, -1, 9999999999\n",
    "    curr_count = defaultdict(lambda: 0) \n",
    "    for i in range(str_len): \n",
    "        curr_count[str[i]] += 1\n",
    " \n",
    "        if curr_count[str[i]] == 1: \n",
    "            ctr += 1\n",
    "  \n",
    "        if ctr == dist_count_char: \n",
    "            while curr_count[str[start_pos]] > 1: \n",
    "                if curr_count[str[start_pos]] > 1: \n",
    "                    curr_count[str[start_pos]] -= 1\n",
    "                start_pos += 1\n",
    "  \n",
    "            len_window = i - start_pos + 1\n",
    "            if min_len > len_window: \n",
    "                min_len = len_window \n",
    "                start_pos_index = start_pos \n",
    "    return str[start_pos_index: start_pos_index + min_len]\n",
    "str2 = \"asdaewsqgtwwsa\" \n",
    "print(\"Original Strings:\\n\",str2)\n",
    "print(\"\\nSmallest window that contains all characters of the said string:\") \n",
    "print(find_sub_string(str2))"
   ]
  },
  {
   "cell_type": "raw",
   "metadata": {},
   "source": [
    "Q17. Write the Python program to count number of substrings from a given string of lowercase alphabets with exactly k distinct (given) characters?\n",
    "\n",
    "Input a string (lowercase alphabets): wolf \n",
    "Input k: 4 \n",
    "Number of substrings with exactly 4 distinct characters: 1"
   ]
  },
  {
   "cell_type": "code",
   "execution_count": 29,
   "metadata": {},
   "outputs": [
    {
     "name": "stdout",
     "output_type": "stream",
     "text": [
      "Input a string (lowercase alphabets):wolf\n",
      "Input k: 4\n",
      "Number of substrings with exactly 4 distinct characters : 1\n"
     ]
    }
   ],
   "source": [
    "def count_k_dist(str1, k):\n",
    "    str_len = len(str1) \n",
    "    result = 0\n",
    "    ctr = [0] * 27\n",
    "    for i in range(0, str_len):\n",
    "        dist_ctr = 0\n",
    "        ctr = [0] * 27\n",
    "        for j in range(i, str_len):\n",
    "            if(ctr[ord(str1[j]) - 97] == 0):\n",
    "                dist_ctr += 1\n",
    "                ctr[ord(str1[j]) - 97] += 1\n",
    "            if(dist_ctr == k):\n",
    "                result += 1 \n",
    "            if(dist_ctr > k):\n",
    "                break\n",
    "    return result\n",
    "str1 = input(\"Input a string (lowercase alphabets):\") \n",
    "k = int(input(\"Input k: \"))\n",
    "print(\"Number of substrings with exactly\", k, \"distinct characters : \", end = \"\") \n",
    "print(count_k_dist(str1, k))"
   ]
  },
  {
   "cell_type": "raw",
   "metadata": {},
   "source": [
    "Q18. Write the Python program to count number of non-empty substrings of the given string? \n",
    "Input a string: w3resource \n",
    "Number of substrings: 55"
   ]
  },
  {
   "cell_type": "code",
   "execution_count": 32,
   "metadata": {},
   "outputs": [
    {
     "name": "stdout",
     "output_type": "stream",
     "text": [
      "Input a String:w3resource\n",
      "Number of substrings:\n",
      "55\n"
     ]
    }
   ],
   "source": [
    "def num_of_substrings(str1):\n",
    "    str1_len = len(str1)\n",
    "    return int(str1_len * (str1_len+1) / 2)\n",
    "\n",
    "str2 = input(\"Input a String:\")\n",
    "print(\"Number of substrings:\")\n",
    "print(num_of_substrings(\"w3resource\"))"
   ]
  },
  {
   "cell_type": "raw",
   "metadata": {},
   "source": [
    "Q19. Write the Python program to count number of substrings with same first and last characters of the given string?\n",
    "Input a string: abcd \n",
    "4"
   ]
  },
  {
   "cell_type": "code",
   "execution_count": 4,
   "metadata": {},
   "outputs": [
    {
     "name": "stdout",
     "output_type": "stream",
     "text": [
      "Input a String:abcd\n",
      "4\n"
     ]
    }
   ],
   "source": [
    "def no_of_substrings(str1):\n",
    "    result = 0\n",
    "    n = len(str1)\n",
    "    for i in range(n):\n",
    "        for j in range(i,n):\n",
    "            if (str1[i]==str1[j]):\n",
    "                result += 1\n",
    "    return result\n",
    "str1 = input(\"Input a String:\")\n",
    "print(no_of_substrings(str1))"
   ]
  },
  {
   "cell_type": "raw",
   "metadata": {},
   "source": [
    "Q20. Write the Python program to count the number of strings where the string length is 2 or more, and first and last character are same from a given list of strings.\n",
    "\n",
    "Sample List : ['abc', 'xyz', 'wxw', '1331'] \n",
    "Expected Result: 2"
   ]
  },
  {
   "cell_type": "code",
   "execution_count": 10,
   "metadata": {},
   "outputs": [
    {
     "name": "stdout",
     "output_type": "stream",
     "text": [
      "2\n"
     ]
    }
   ],
   "source": [
    "def count_no_of_strings(sample_list):\n",
    "    ctr=0\n",
    "    for each_str in sample_list:\n",
    "        if len(each_str) > 1 and each_str[0] == each_str[-1]:\n",
    "            ctr += 1\n",
    "    return ctr\n",
    "print(count_no_of_strings(['abc', 'xyz', 'wxw', '1331']))"
   ]
  },
  {
   "cell_type": "raw",
   "metadata": {},
   "source": [
    "Q21. Write the Python program to get a list, sorted in increasing order by the last element in each tuple from the given list of non-empty tuples?\n",
    "\n",
    "Sample List - [ (2, 5), (1, 2), (4, 4), (2, 3), (2, 1) ] \n",
    "Expected Result - [ (2, 1), (1, 2), (2, 3), (4, 4), (2, 5) ]"
   ]
  },
  {
   "cell_type": "code",
   "execution_count": 15,
   "metadata": {},
   "outputs": [
    {
     "name": "stdout",
     "output_type": "stream",
     "text": [
      "[(2, 1), (1, 2), (2, 3), (4, 4), (2, 5)]\n"
     ]
    }
   ],
   "source": [
    "def last(n):\n",
    "    return n[-1]\n",
    "def sort_list_last(tuples):\n",
    "    return sorted(tuples,key=last)\n",
    "print(sort_list_last([(2, 5), (1, 2), (4, 4), (2, 3), (2, 1)]))"
   ]
  },
  {
   "cell_type": "raw",
   "metadata": {},
   "source": [
    "Q22. Write the Python program to remove duplicates from a list?"
   ]
  },
  {
   "cell_type": "code",
   "execution_count": 17,
   "metadata": {},
   "outputs": [
    {
     "name": "stdout",
     "output_type": "stream",
     "text": [
      "{70, 10, 14, 50, 20, 60, 30}\n"
     ]
    }
   ],
   "source": [
    "def remove_duplicates(sample):\n",
    "    dup_items = set()\n",
    "    uniq_items = []\n",
    "    for x in sample:\n",
    "        if x not in dup_items:\n",
    "            uniq_items.append(x)\n",
    "            dup_items.add(x)\n",
    "    print(dup_items)\n",
    "remove_duplicates([10,20,10,30,50,14,60,50,70])"
   ]
  },
  {
   "cell_type": "raw",
   "metadata": {},
   "source": [
    "Q23. Write the Python program to find the list of words that are longer than n from a given list of words?"
   ]
  },
  {
   "cell_type": "code",
   "execution_count": 30,
   "metadata": {},
   "outputs": [
    {
     "name": "stdout",
     "output_type": "stream",
     "text": [
      "['quick', 'brown', 'jumps', 'over', 'lazy']\n"
     ]
    }
   ],
   "source": [
    "def list_longer_than_n(sample,n):\n",
    "    items = []\n",
    "    words = sample.split(\" \")\n",
    "    for word in words:\n",
    "        if len(word) > n:\n",
    "            items.append(word)\n",
    "    return items\n",
    "print(list_longer_than_n('The quick brown fox jumps over the lazy dog',3))"
   ]
  },
  {
   "cell_type": "raw",
   "metadata": {},
   "source": [
    "Q24. Write the Python program to print a specified list after removing the 0th, 4th, and 5th elements?\n",
    "Sample List - ['Red', 'Green', 'White', 'Black', 'Pink', 'Yellow'] \n",
    "Expected Output - ['Green', 'White', 'Black']"
   ]
  },
  {
   "cell_type": "code",
   "execution_count": 33,
   "metadata": {},
   "outputs": [
    {
     "name": "stdout",
     "output_type": "stream",
     "text": [
      "['Green', 'White', 'Black']\n"
     ]
    }
   ],
   "source": [
    "def remove_element(sample):\n",
    "    color = [x for (i,x) in enumerate(sample) if i not in (0,4,5)]\n",
    "    return color\n",
    "print(remove_element(['Red', 'Green', 'White', 'Black', 'Pink', 'Yellow']))"
   ]
  },
  {
   "cell_type": "raw",
   "metadata": {},
   "source": [
    "Q25. Write the Python program to generate all permutations of a list in Python?"
   ]
  },
  {
   "cell_type": "code",
   "execution_count": 34,
   "metadata": {},
   "outputs": [
    {
     "name": "stdout",
     "output_type": "stream",
     "text": [
      "[(12, 2, 3), (12, 3, 2), (2, 12, 3), (2, 3, 12), (3, 12, 2), (3, 2, 12)]\n"
     ]
    }
   ],
   "source": [
    "import itertools\n",
    "print(list(itertools.permutations([12,2,3])))"
   ]
  },
  {
   "cell_type": "raw",
   "metadata": {},
   "source": [
    "Q26. Write the Python program to convert a pair of values into a sorted unique array? \n",
    "Original List- [ (1, 2), (3, 4), (1, 2), (5, 6), (7, 8), (1, 2), (3, 4), (3, 4), (7, 8), (9, 10) ] \n",
    "Sorted Unique Data- [ 1, 2, 3, 4, 5, 6, 7, 8, 9, 10 ]"
   ]
  },
  {
   "cell_type": "code",
   "execution_count": 37,
   "metadata": {},
   "outputs": [
    {
     "data": {
      "text/plain": [
       "[1, 2, 3, 4, 5, 6, 7, 8, 9, 10]"
      ]
     },
     "execution_count": 37,
     "metadata": {},
     "output_type": "execute_result"
    }
   ],
   "source": [
    "def convert_into_array(sample):\n",
    "    return sorted(set().union(*sample))\n",
    "convert_into_array([(1, 2), (3, 4), (1, 2), (5, 6), (7, 8), (1, 2), (3, 4), (3, 4), (7, 8), (9, 10) ])"
   ]
  },
  {
   "cell_type": "raw",
   "metadata": {},
   "source": [
    "Q27. Write the Python class to convert an integer to a roman numeral?"
   ]
  },
  {
   "cell_type": "code",
   "execution_count": 21,
   "metadata": {},
   "outputs": [
    {
     "name": "stdout",
     "output_type": "stream",
     "text": [
      "X\n",
      "MMMDXXIV\n"
     ]
    }
   ],
   "source": [
    "class py_solution:\n",
    "    def int_to_roman(self,num):\n",
    "        val = [1000,900,500, 400, 100, 90, 50, 40, 10, 9, 5, 4, 1 ] \n",
    "        syb = [ \"M\", \"CM\", \"D\", \"CD\", \"C\", \"XC\", \"L\", \"XL\", \"X\", \"IX\", \"V\", \"IV\", \"I\" ]\n",
    "        roman_num = \"\"\n",
    "        i = 0\n",
    "        while num >0:\n",
    "            for _ in range(num//val[i]):\n",
    "                roman_num += syb[i]\n",
    "                num -= val[i]\n",
    "            i += 1\n",
    "        return roman_num\n",
    "\n",
    "print(py_solution().int_to_roman(10))\n",
    "print(py_solution().int_to_roman(3524))"
   ]
  },
  {
   "cell_type": "raw",
   "metadata": {},
   "source": [
    "Q28 Write the Python class to convert a Roman numeral to an integer?"
   ]
  },
  {
   "cell_type": "code",
   "execution_count": 23,
   "metadata": {},
   "outputs": [
    {
     "name": "stdout",
     "output_type": "stream",
     "text": [
      "3524\n"
     ]
    }
   ],
   "source": [
    "class py_solution:\n",
    "    def roman_to_int(self,s):\n",
    "        rom_val = {'I': 1, 'V': 5, 'X': 10, 'L': 50, 'C': 100, 'D': 500, 'M': 1000}\n",
    "        int_val = 0 \n",
    "        for i in range(len(s)): \n",
    "            if i > 0 and rom_val[s[i]] > rom_val[s[i - 1]]: \n",
    "                int_val += rom_val[s[i]] - 2 * rom_val[s[i - 1]] \n",
    "            else: \n",
    "                int_val += rom_val[s[i]] \n",
    "        return int_val\n",
    "print(py_solution().roman_to_int('MMMDXXIV'))"
   ]
  },
  {
   "cell_type": "raw",
   "metadata": {},
   "source": [
    "Q29. Write the Python class to find the validity of the string of the parentheses, '(', ')', '{', '}', '[' and '] and the brackets must be closed in the correct order, \n",
    "example - \"()\" and \"()[]{}\" are valid but \"[)\", \"({[)]\" and \"{{{\" are invalid"
   ]
  },
  {
   "cell_type": "code",
   "execution_count": 24,
   "metadata": {},
   "outputs": [
    {
     "name": "stdout",
     "output_type": "stream",
     "text": [
      "True\n",
      "False\n"
     ]
    }
   ],
   "source": [
    "class py_solution:\n",
    "    def is_valid_parenthesis(self,str1):\n",
    "        stack = []\n",
    "        pchar = {'(': ')', '{': '}', '[': ']'}\n",
    "        for parenthesis in str1:\n",
    "            if parenthesis in pchar:\n",
    "                stack.append(parenthesis)\n",
    "            elif len(stack)==0 or pchar[stack.pop()]!= parenthesis:\n",
    "                return False\n",
    "        return len(stack)==0\n",
    "\n",
    "print(py_solution().is_valid_parenthesis(\"(){}[]\"))\n",
    "print(py_solution().is_valid_parenthesis(\"()[{)}\"))"
   ]
  },
  {
   "cell_type": "raw",
   "metadata": {},
   "source": [
    "Q30. Write the Python class to get all possible unique subsets from a set of distinct integers?\n",
    "Input - [4, 5, 6] \n",
    "Output - [[], [6], [5], [5, 6], [4], [4, 6], [4, 5], [4, 5, 6]]"
   ]
  },
  {
   "cell_type": "code",
   "execution_count": 10,
   "metadata": {},
   "outputs": [
    {
     "name": "stdout",
     "output_type": "stream",
     "text": [
      "[[], [4], [5], [4, 5], [6], [4, 6], [5, 6], [4, 5, 6]]\n"
     ]
    }
   ],
   "source": [
    "class py_solution:\n",
    "    def subsets(self,nums):\n",
    "        output = [[]]\n",
    "        for i in nums:\n",
    "            output += [lst + [i] for lst in output]\n",
    "        return output\n",
    "\n",
    "fullList = [4, 5, 6]\n",
    "p = py_solution()\n",
    "print(p.subsets(fullList)) "
   ]
  },
  {
   "cell_type": "raw",
   "metadata": {},
   "source": [
    "Q31. Write the Python class to find a pair of elements (indices of the two numbers) from a given array whose sum equals the specific target number?\n",
    "Input: numbers- [10,20,10,40,50,60,70], \n",
    "target=50 \n",
    "Output- 3, 4"
   ]
  },
  {
   "cell_type": "code",
   "execution_count": 20,
   "metadata": {},
   "outputs": [
    {
     "name": "stdout",
     "output_type": "stream",
     "text": [
      "(0, 1)\n"
     ]
    }
   ],
   "source": [
    "class py_solution:\n",
    "    def two_sum(self,nums,target):\n",
    "        compliments={}\n",
    "        result = []\n",
    "        for index,num in enumerate(nums):\n",
    "            if compliments.get(num) is None:\n",
    "                compliments[target-num]=index\n",
    "            else:\n",
    "                result = compliments[num],index\n",
    "        return result\n",
    "    \n",
    "input1=[10,20,10,40,50,60,70]\n",
    "print(py_solution().two_sum(input1,30))"
   ]
  },
  {
   "cell_type": "raw",
   "metadata": {},
   "source": [
    "Q32. Write the Python class to find the three elements that sum to zero from the set of n real numbers?\n",
    "Input array- [-25, -10, -7, -3, 2, 4, 8, 10] \n",
    "Output - [[-10, 2, 8], [-7, -3, 10]]"
   ]
  },
  {
   "cell_type": "code",
   "execution_count": 2,
   "metadata": {},
   "outputs": [
    {
     "name": "stdout",
     "output_type": "stream",
     "text": [
      "[[-10, 2, 8], [-7, -3, 10]]\n"
     ]
    }
   ],
   "source": [
    "class py_solution:\n",
    "    def sum_zero(self,nums):\n",
    "        nums.sort()\n",
    "        result = []\n",
    "        length = len(nums)\n",
    "        for i in range(length-2):\n",
    "            if i>0 and nums[i]==nums[i+1]:\n",
    "                continue\n",
    "            l = i+1\n",
    "            r = length-1\n",
    "            \n",
    "            while l<r:\n",
    "                total = nums[i]+nums[l]+nums[r]\n",
    "                if total < 0:\n",
    "                    l+=1\n",
    "                elif total > 0:\n",
    "                    r-=1\n",
    "                else:\n",
    "                    result.append([nums[i],nums[l],nums[r]])\n",
    "                    while l<r and nums[l]==nums[l+1]:\n",
    "                        l+=1\n",
    "                    while l>r and nums[r]==nums[r+1]:\n",
    "                        r-=1\n",
    "                    l+=1\n",
    "                    r-=1\n",
    "        return result\n",
    "\n",
    "num332=[-25, -10, -7, -3, 2, 4, 8, 10] \n",
    "print(py_solution().sum_zero(num332))               \n",
    "        "
   ]
  },
  {
   "cell_type": "code",
   "execution_count": 32,
   "metadata": {},
   "outputs": [
    {
     "name": "stdout",
     "output_type": "stream",
     "text": [
      "[[-10, 2, 8], [-7, -3, 10]]\n"
     ]
    }
   ],
   "source": [
    "class py_solution:\n",
    "    def threeSum(self, nums):\n",
    "        nums, result, i = sorted(nums), [], 0\n",
    "        while i < len(nums) - 2:\n",
    "            j, k = i + 1, len(nums) - 1\n",
    "            while j < k:\n",
    "                if nums[i] + nums[j] + nums[k] < 0:\n",
    "                    j += 1\n",
    "                elif nums[i] + nums[j] + nums[k] > 0:\n",
    "                    k -= 1\n",
    "                else:\n",
    "                    result.append([nums[i], nums[j], nums[k]])\n",
    "                    j, k = j + 1, k - 1\n",
    "                    while j < k and nums[j] == nums[j - 1]:\n",
    "                        j += 1\n",
    "                    while j < k and nums[k] == nums[k + 1]:\n",
    "                        k -= 1\n",
    "            i += 1\n",
    "            while i < len(nums) - 2 and nums[i] == nums[i - 1]:\n",
    "                i += 1\n",
    "        return result\n",
    "\n",
    "print(py_solution().threeSum([-25, -10, -7, -3, 2, 4, 8, 10]))"
   ]
  },
  {
   "cell_type": "raw",
   "metadata": {},
   "source": [
    "Q33. Write the Python class to implement pow(x, n)?"
   ]
  },
  {
   "cell_type": "code",
   "execution_count": 5,
   "metadata": {},
   "outputs": [
    {
     "name": "stdout",
     "output_type": "stream",
     "text": [
      "144\n"
     ]
    }
   ],
   "source": [
    "class py_solution:\n",
    "    def powe(self,x,n):\n",
    "        return pow(x,n)\n",
    "print(py_solution().powe(12,2))"
   ]
  },
  {
   "cell_type": "raw",
   "metadata": {},
   "source": [
    "Q34. Write the Python class which has two methods get_String and print_String. get_String accept the string from the user and\n",
    "print_String print the string in upper case."
   ]
  },
  {
   "cell_type": "code",
   "execution_count": 17,
   "metadata": {},
   "outputs": [
    {
     "name": "stdout",
     "output_type": "stream",
     "text": [
      "CoronaVirus\n",
      "CORONAVIRUS\n"
     ]
    }
   ],
   "source": [
    "class py_solution:\n",
    "    def __init__(self):\n",
    "        self.str1=\"\"\n",
    "    def get_String(self):\n",
    "        self.str1 = input()\n",
    "    def print_String(self):\n",
    "        print(self.str1.upper())\n",
    "str2=py_solution()\n",
    "str2.get_String()\n",
    "str2.print_String()"
   ]
  },
  {
   "cell_type": "raw",
   "metadata": {},
   "source": [
    "Q35. Write the Python class named Rectangle constructed by a length and width and the method which will compute the area of the rectangle?"
   ]
  },
  {
   "cell_type": "code",
   "execution_count": 22,
   "metadata": {},
   "outputs": [
    {
     "name": "stdout",
     "output_type": "stream",
     "text": [
      "42\n"
     ]
    }
   ],
   "source": [
    "class Rectangle:\n",
    "    def __init__(self,length,width):\n",
    "        self.length,self.width = length,width\n",
    "    def area(self):\n",
    "        return self.length*self.width\n",
    "\n",
    "rect = Rectangle(21,2)\n",
    "print(rect.area())"
   ]
  },
  {
   "cell_type": "raw",
   "metadata": {},
   "source": [
    "Q36. Write the Python class named Circle constructed by the radius and two methods which will compute the area and perimeter of the circle?"
   ]
  },
  {
   "cell_type": "code",
   "execution_count": 25,
   "metadata": {},
   "outputs": [
    {
     "name": "stdout",
     "output_type": "stream",
     "text": [
      "113.04\n",
      "37.68\n"
     ]
    }
   ],
   "source": [
    "class Circle:\n",
    "    def __init__(self,radius):\n",
    "        self.radius=radius\n",
    "    def area(self):\n",
    "        return self.radius**2*3.14\n",
    "    def perimeter(self):\n",
    "        return self.radius*2*3.14\n",
    "circ =Circle(6)\n",
    "print(circ.area())\n",
    "print(circ.perimeter())"
   ]
  },
  {
   "cell_type": "raw",
   "metadata": {},
   "source": [
    "Q37. Write the Python program to get the class name of an instance in Python?"
   ]
  },
  {
   "cell_type": "code",
   "execution_count": 28,
   "metadata": {},
   "outputs": [
    {
     "name": "stdout",
     "output_type": "stream",
     "text": [
      "cycle\n"
     ]
    }
   ],
   "source": [
    "import itertools\n",
    "x = itertools.cycle(\"ABCD\")\n",
    "print(type(x).__name__)"
   ]
  },
  {
   "cell_type": "raw",
   "metadata": {},
   "source": [
    "Q38. Write the Python program to count the number of students of individual class?\n",
    "\n",
    "Sample data- \n",
    "classes = ( ('V', 1), ('VI', 1), ('V', 2), ('VI', 2), ('VI', 3), ('VII', 1), ) \n",
    "\n",
    "Expected Output- \n",
    "Counter({'VI': 3, 'V': 2, 'VII': 1})"
   ]
  },
  {
   "cell_type": "code",
   "execution_count": 31,
   "metadata": {},
   "outputs": [
    {
     "name": "stdout",
     "output_type": "stream",
     "text": [
      "Counter({'VI': 3, 'V': 2, 'VII': 1})\n"
     ]
    }
   ],
   "source": [
    "from collections import Counter\n",
    "classes = ( ('V', 1), ('VI', 1), ('V', 2), ('VI', 2), ('VI', 3), ('VII', 1), )\n",
    "students = Counter(class_name for class_name,no_students in classes)\n",
    "print(students)    "
   ]
  },
  {
   "cell_type": "raw",
   "metadata": {},
   "source": [
    "Q39. Write the Python program to create an instance of an OrderedDict using the given dictionary and sort dictionary during the creation and print members of the dictionary in reverse order?\n",
    "\n",
    "Expected Output- \n",
    "Angola 244. Andorra 376. Algeria 213. Afghanistan 93. Albania 355. \n",
    "\n",
    "In reverse order- \n",
    "Albania 355. Afghanistan 93. Algeria 213. Andorra 376. Angola 244."
   ]
  },
  {
   "cell_type": "code",
   "execution_count": 35,
   "metadata": {},
   "outputs": [
    {
     "name": "stdout",
     "output_type": "stream",
     "text": [
      "Angola 244\n",
      "Andorra 376\n",
      "Algeria 213\n",
      "Afghanistan 93\n",
      "Albania 355\n",
      "\n",
      "In Reversed Order:\n",
      "Albania 355\n",
      "Afghanistan 93\n",
      "Algeria 213\n",
      "Andorra 376\n",
      "Angola 244\n"
     ]
    }
   ],
   "source": [
    "from collections import OrderedDict\n",
    "dict = {'Angola':244,'Andorra':376, 'Algeria': 213, 'Afghanistan': 93, 'Albania': 355}\n",
    "new_dict=OrderedDict(dict.items())\n",
    "for key in new_dict:\n",
    "    print(key,new_dict[key])\n",
    "print(\"\\nIn Reversed Order:\")\n",
    "for key in reversed(new_dict):\n",
    "    print(key,new_dict[key])"
   ]
  },
  {
   "cell_type": "raw",
   "metadata": {},
   "source": [
    "Q40. Write the Python program to compare two unordered lists (not sets)?\n",
    "Expected Output: False"
   ]
  },
  {
   "cell_type": "code",
   "execution_count": 39,
   "metadata": {},
   "outputs": [
    {
     "name": "stdout",
     "output_type": "stream",
     "text": [
      "True\n",
      "False\n"
     ]
    }
   ],
   "source": [
    "from collections import Counter\n",
    "def compare_lists(list1,list2):\n",
    "    return Counter(list1)==Counter(list2)\n",
    "list1=[10,50,20,40,68,72,20,40]\n",
    "list2=[50,40,72,68,10,20,40,20]\n",
    "list3=[50,3,72,68,10,20,20,40]\n",
    "print(compare_lists(list1,list2))\n",
    "print(compare_lists(list1,list3))"
   ]
  },
  {
   "cell_type": "raw",
   "metadata": {},
   "source": [
    "Q41. Write the Python program to get an array buffer information? \n",
    "\n",
    "Expected Output- Array buffer start address in memory and number of elements. \n",
    "(25855056, 2)"
   ]
  },
  {
   "cell_type": "code",
   "execution_count": 45,
   "metadata": {},
   "outputs": [
    {
     "name": "stdout",
     "output_type": "stream",
     "text": [
      "(90632560, 3)\n"
     ]
    }
   ],
   "source": [
    "from array import array\n",
    "a = array(\"I\",(1,2,5))\n",
    "print(a.buffer_info())"
   ]
  },
  {
   "cell_type": "raw",
   "metadata": {},
   "source": [
    "Q42. Write the Python program to convert an array to an array of machine values and return the bytes representation?\n",
    "\n",
    "Expected Output- \n",
    "Original array- \n",
    "A1: array('i', [1, 2, 3, 4, 5, 6]) \n",
    "Array of bytes: b'010000000200000003000000040000000500000006000000'"
   ]
  },
  {
   "cell_type": "code",
   "execution_count": 59,
   "metadata": {},
   "outputs": [
    {
     "name": "stdout",
     "output_type": "stream",
     "text": [
      "Original array-\n",
      "A1: array('i', [1, 2, 3, 4, 5, 6])\n",
      "Array of bytes:\n",
      "b'010000000200000003000000040000000500000006000000'\n"
     ]
    }
   ],
   "source": [
    "import array\n",
    "a = array.array(\"i\",[1,2,3,4,5,6])\n",
    "print(\"Original array-\")\n",
    "print(\"A1:\",a)\n",
    "\n",
    "import binascii\n",
    "bytes_array=a.tobytes()\n",
    "print(\"Array of bytes:\")\n",
    "print(binascii.hexlify(bytes_array))"
   ]
  },
  {
   "cell_type": "raw",
   "metadata": {},
   "source": [
    "Q43. Write the Python program to read a string and interpreting the string as an array of machine values?\n",
    "\n",
    "Expected Output- \n",
    "array1- array('i', [7, 8, 9, 10]) \n",
    "Bytes- b'0700000008000000090000000a000000' \n",
    "array2- array('i', [7, 8, 9, 10])"
   ]
  },
  {
   "cell_type": "code",
   "execution_count": 74,
   "metadata": {},
   "outputs": [
    {
     "name": "stdout",
     "output_type": "stream",
     "text": [
      "array1 -  array('i', [7, 8, 9, 10])\n",
      "Bytes -  b'0700000008000000090000000a000000'\n",
      "array('i', [7, 8, 9, 10])\n"
     ]
    }
   ],
   "source": [
    "import binascii\n",
    "from array import array\n",
    "array1 = array('i',[7,8,9,10])\n",
    "print(\"array1 - \",array1)\n",
    "as_bytes = array1.tobytes()\n",
    "print(\"Bytes - \",binascii.hexlify(as_bytes))\n",
    "array2 = array('i')\n",
    "array2.frombytes(as_bytes)\n",
    "print(array2)"
   ]
  },
  {
   "cell_type": "raw",
   "metadata": {},
   "source": [
    "Q44. Write the Python program to push three items into the heap and return the smallest item from the heap. Also, return and pop the smallest item from the heap?\n",
    "\n",
    "Expected Output- \n",
    "Items in the heap- ('VI', 1). ('VII', 3). ('VIII', 2). \n",
    "---------------------- \n",
    "The smallest item in the heap: ('VI', 1). \n",
    "---------------------- \n",
    "Pop the smallest item in the heap: ('VII', 2). ('VIII', 3)."
   ]
  },
  {
   "cell_type": "code",
   "execution_count": 82,
   "metadata": {},
   "outputs": [
    {
     "name": "stdout",
     "output_type": "stream",
     "text": [
      "Items in the heap-\n",
      "('VI', 1)\n",
      "('VII', 3)\n",
      "('VIII', 2)\n",
      "The smallest item in the heap: ('VI', 1)\n",
      "Pop the smallest item in the heap:\n",
      "('VII', 3)\n",
      "('VIII', 2)\n"
     ]
    }
   ],
   "source": [
    "import heapq\n",
    "heap=[]\n",
    "heapq.heappush(heap,('VI', 1))\n",
    "heapq.heappush(heap,('VII', 3))\n",
    "heapq.heappush(heap,('VIII', 2))\n",
    "print(\"Items in the heap-\")\n",
    "for a in heap:\n",
    "    print(a)\n",
    "print(\"The smallest item in the heap:\",heap[0])\n",
    "print(\"Pop the smallest item in the heap:\")\n",
    "heapq.heappop(heap)\n",
    "for a in heap:\n",
    "    print(a)"
   ]
  },
  {
   "cell_type": "raw",
   "metadata": {},
   "source": [
    "Q45. Write the Python program to locate the left insertion point for a specified value in sorted order? \n",
    "Expected Output: \n",
    "4 \n",
    "2"
   ]
  },
  {
   "cell_type": "code",
   "execution_count": 88,
   "metadata": {},
   "outputs": [
    {
     "name": "stdout",
     "output_type": "stream",
     "text": [
      "4\n",
      "0\n"
     ]
    }
   ],
   "source": [
    "import bisect\n",
    "def index(a,x):\n",
    "    return bisect.bisect_left(a,x)\n",
    "a = [1,2,3,4]\n",
    "print(index(a,10))\n",
    "print(index(a,1))"
   ]
  },
  {
   "cell_type": "raw",
   "metadata": {},
   "source": [
    "Q46. Write the Python program to create the FIFO queue? \n",
    "Expected Output: \n",
    "0 1 2 3"
   ]
  },
  {
   "cell_type": "code",
   "execution_count": 91,
   "metadata": {},
   "outputs": [
    {
     "name": "stdout",
     "output_type": "stream",
     "text": [
      "0123\n",
      "\n"
     ]
    }
   ],
   "source": [
    "import queue\n",
    "q = queue.Queue()\n",
    "for x in range(4):\n",
    "    q.put(str(x))\n",
    "while not q.empty():\n",
    "    print(q.get(),end=\"\")\n",
    "print(\"\\n\")"
   ]
  },
  {
   "cell_type": "code",
   "execution_count": 92,
   "metadata": {},
   "outputs": [
    {
     "data": {
      "text/plain": [
       "<queue.Queue at 0x84f1128>"
      ]
     },
     "execution_count": 92,
     "metadata": {},
     "output_type": "execute_result"
    }
   ],
   "source": [
    "q"
   ]
  },
  {
   "cell_type": "code",
   "execution_count": null,
   "metadata": {},
   "outputs": [],
   "source": [
    "q.get()"
   ]
  },
  {
   "cell_type": "raw",
   "metadata": {},
   "source": [
    "Q47. Write the Python program to calculate the harmonic sum of n-1. Note: The harmonic sum is the sum of reciprocals of the positive Integers?\n",
    "Example\n",
    "1 + 1/2 + 1/3 + 1/4 + 1/5"
   ]
  },
  {
   "cell_type": "code",
   "execution_count": 1,
   "metadata": {},
   "outputs": [
    {
     "name": "stdout",
     "output_type": "stream",
     "text": [
      "2.4499999999999997\n"
     ]
    }
   ],
   "source": [
    "def harmonic_sum(n):\n",
    "    if n < 2:\n",
    "        return 1\n",
    "    else:\n",
    "        return 1 / n+harmonic_sum(n-1)\n",
    "print(harmonic_sum(6))"
   ]
  },
  {
   "cell_type": "raw",
   "metadata": {},
   "source": [
    "Q48. Write the NumPy program to create a 2d array with 6 on the border and 0 inside?\n",
    "\n",
    "Expected Output- \n",
    "Original array- \n",
    "[ [6 6 6 6 6] \n",
    "[ 6 6 6 6 6] \n",
    "[ 6 6 6 6 6 ] \n",
    "[ 6 6 6 6 6 ] \n",
    "[ 6 6 6 6 ] ].\n",
    "\n",
    "6 on the border and 0 inside in the array- \n",
    "[[ 6 6 6 6 6] \n",
    "[ 6 0 0 0 6] \n",
    "[ 6 0 0 0 6] \n",
    "[ 6 0 0 0 6] \n",
    "[ 6 6 6 6 6]]."
   ]
  },
  {
   "cell_type": "code",
   "execution_count": 18,
   "metadata": {},
   "outputs": [
    {
     "name": "stdout",
     "output_type": "stream",
     "text": [
      "Original Array - \n",
      " [[6. 6. 6. 6. 6.]\n",
      " [6. 6. 6. 6. 6.]\n",
      " [6. 6. 6. 6. 6.]\n",
      " [6. 6. 6. 6. 6.]\n",
      " [6. 6. 6. 6. 6.]]\n",
      "\n",
      " 6 on the border and 0 inside in the array- \n",
      " [[6. 6. 6. 6. 6.]\n",
      " [6. 0. 0. 0. 6.]\n",
      " [6. 0. 0. 0. 6.]\n",
      " [6. 0. 0. 0. 6.]\n",
      " [6. 6. 6. 6. 6.]]\n"
     ]
    }
   ],
   "source": [
    "import numpy as np\n",
    "x= np.ones((5,5))*6\n",
    "print(\"Original Array - \\n\", x)\n",
    "x[1:-1,1:-1]=0\n",
    "print(\"\\n 6 on the border and 0 inside in the array- \\n\", x)\n"
   ]
  },
  {
   "cell_type": "raw",
   "metadata": {},
   "source": [
    "Q49. Write the NumPy program to create a 8x8 matrix and fill it with the checkerboard pattern?\n",
    "\n",
    "Checkerboard pattern- \n",
    "[[3 9 3 9 3 9 3 9] \n",
    "[9 3 9 3 9 3 9 3] \n",
    "[3 9 3 9 3 9 3 9] \n",
    "[9 3 9 3 9 3 9 3] \n",
    "[3 9 3 9 3 9 3 9] \n",
    "[9 3 9 3 9 3 9 3] \n",
    "[3 9 3 9 3 9 3 9] \n",
    "[9 3 9 3 9 3 9 3]]."
   ]
  },
  {
   "cell_type": "code",
   "execution_count": 46,
   "metadata": {},
   "outputs": [
    {
     "data": {
      "text/plain": [
       "array([[3, 9, 3, 9, 3, 9, 3, 9],\n",
       "       [9, 3, 9, 3, 9, 3, 9, 3],\n",
       "       [3, 9, 3, 9, 3, 9, 3, 9],\n",
       "       [9, 3, 9, 3, 9, 3, 9, 3],\n",
       "       [3, 9, 3, 9, 3, 9, 3, 9],\n",
       "       [9, 3, 9, 3, 9, 3, 9, 3],\n",
       "       [3, 9, 3, 9, 3, 9, 3, 9],\n",
       "       [9, 3, 9, 3, 9, 3, 9, 3]])"
      ]
     },
     "execution_count": 46,
     "metadata": {},
     "output_type": "execute_result"
    }
   ],
   "source": [
    "import numpy as np\n",
    "x=np.ones((8,8), dtype=int)*3\n",
    "x[1::2,::2]=9\n",
    "x[::2,1::2]=9\n",
    "x"
   ]
  },
  {
   "cell_type": "raw",
   "metadata": {},
   "source": [
    "Q50. Write the NumPy program to create an empty and a full array. \n",
    "\n",
    "Expected Output- \n",
    "\n",
    "[[4.45057637e-308 \n",
    "1.78021527e-306 \n",
    "8.45549797e-307 \n",
    "1.37962049e-306] \n",
    "\n",
    "[1.11260619e-306 \n",
    "1.78010255e-306 \n",
    "9.79054228e-307 \n",
    "4.45057637e-308] \n",
    "\n",
    "[8.45596650e-307 \n",
    "9.34602321e-307 \n",
    "4.94065646e-322 \n",
    "0.00000000e+000]] \n",
    "\n",
    "[[6 6 6] \n",
    "[6 6 6] \n",
    "[6 6 6]]"
   ]
  },
  {
   "cell_type": "code",
   "execution_count": 54,
   "metadata": {},
   "outputs": [
    {
     "name": "stdout",
     "output_type": "stream",
     "text": [
      "[[1. 1. 1.]\n",
      " [1. 1. 1.]\n",
      " [1. 1. 1.]]\n",
      "[[6 6 6 6 6]\n",
      " [6 6 6 6 6]\n",
      " [6 6 6 6 6]]\n"
     ]
    }
   ],
   "source": [
    "import numpy as np\n",
    "x=np.empty((3,3))\n",
    "print(x)\n",
    "y=np.full((3,5),6)\n",
    "print(y)"
   ]
  },
  {
   "cell_type": "raw",
   "metadata": {},
   "source": [
    "Q51. Write the NumPy program to convert the values of Centigrade degrees into the Fahrenheit degrees and the centigrade values are stored in the NumPy array.\n",
    "\n",
    "Sample Array -\n",
    "[0, 12, 45.21 ,34, 99.91] \n",
    "\n",
    "Expected Output- \n",
    "\n",
    "Values in Fahrenheit degrees- \n",
    "[ 0. 12. 45.21 34. 99.91] \n",
    "\n",
    "Values in Centigrade degrees- \n",
    "[-17.77777778 -11.11111111 7.33888889 1.11111111 37.72777778]"
   ]
  },
  {
   "cell_type": "code",
   "execution_count": 65,
   "metadata": {},
   "outputs": [
    {
     "name": "stdout",
     "output_type": "stream",
     "text": [
      "Values in Fahrenheit degrees- \n",
      " [ 0.   12.   45.21 34.   99.91]\n",
      "Values in Centigrade degrees:\n",
      "[-17.77777778 -11.11111111   7.33888889   1.11111111  37.72777778]\n"
     ]
    }
   ],
   "source": [
    "import numpy as np\n",
    "fvalues = [0, 12, 45.21 ,34, 99.91] \n",
    "F=np.array(fvalues)\n",
    "print(\"Values in Fahrenheit degrees- \\n\",F)\n",
    "print(\"Values in Centigrade degrees:\")\n",
    "print(5*F/9 - 5*32/9)"
   ]
  },
  {
   "cell_type": "raw",
   "metadata": {},
   "source": [
    "Q52. Write the NumPy program to find the real and imaginary parts of an array of complex numbers?\n",
    "Expected Output- \n",
    "Original array [ 1.00000000+0.j 0.70710678+0.70710678j] \n",
    "Real part of the array- [ 1. 0.70710678] \n",
    "Imaginary part of the array- [ 0. 0.70710678]"
   ]
  },
  {
   "cell_type": "code",
   "execution_count": 72,
   "metadata": {},
   "outputs": [
    {
     "name": "stdout",
     "output_type": "stream",
     "text": [
      "[1.+0.j]\n",
      "[0.70710678+0.70710678j]\n",
      "Real part\n",
      "[1.]\n",
      "Imag part\n",
      "[0.]\n"
     ]
    }
   ],
   "source": [
    "import numpy as np\n",
    "x=np.sqrt([1+0j])\n",
    "y=np.sqrt([0+1j])\n",
    "print(x)\n",
    "print(y)\n",
    "print(\"Real part\")\n",
    "print(np.real(x))\n",
    "print(\"Imag part\")\n",
    "print(np.imag(x))"
   ]
  },
  {
   "cell_type": "raw",
   "metadata": {},
   "source": [
    "Q53. Write the NumPy program to test whether each element of a 1-D array is also present in the second array?\n",
    "Expected Output- \n",
    "Array1: [ 0 10 20 40 60] \n",
    "Array2: [0, 40] \n",
    "Compare each element of array1 and array2 [ True False False True False]"
   ]
  },
  {
   "cell_type": "code",
   "execution_count": 75,
   "metadata": {},
   "outputs": [
    {
     "data": {
      "text/plain": [
       "array([ True, False, False,  True, False])"
      ]
     },
     "execution_count": 75,
     "metadata": {},
     "output_type": "execute_result"
    }
   ],
   "source": [
    "import numpy as np\n",
    "a1=np.array([0,10,20,40,60])\n",
    "a2=np.array([0,40])\n",
    "np.in1d(a1,a2)"
   ]
  },
  {
   "cell_type": "raw",
   "metadata": {},
   "source": [
    "Q54. Write the NumPy program to find common values between two arrays? \n",
    "Expected Output- \n",
    "Array1: [ 0 10 20 40 60] \n",
    "Array2: [10, 30, 40] \n",
    "Common values between two arrays- [10 40]"
   ]
  },
  {
   "cell_type": "code",
   "execution_count": 77,
   "metadata": {},
   "outputs": [
    {
     "data": {
      "text/plain": [
       "array([10, 40])"
      ]
     },
     "execution_count": 77,
     "metadata": {},
     "output_type": "execute_result"
    }
   ],
   "source": [
    "import numpy as np\n",
    "a1=np.array([0,10,20,40,60])\n",
    "a2=np.array([10,30,40])\n",
    "np.intersect1d(a1,a2)"
   ]
  },
  {
   "cell_type": "raw",
   "metadata": {},
   "source": [
    "Q55. Write the NumPy program to get the unique elements of an array?\n",
    "\n",
    "Expected Output- \n",
    "Original array- [10 10 20 20 30 30] \n",
    "Unique elements of the above array- [10 20 30]\n",
    "\n",
    "Original array- [[1 1] [2 3]] \n",
    "Unique elements of the above array- [1 2 3]"
   ]
  },
  {
   "cell_type": "code",
   "execution_count": 89,
   "metadata": {},
   "outputs": [
    {
     "name": "stdout",
     "output_type": "stream",
     "text": [
      "[10 20 30]\n",
      "[1 2 3]\n"
     ]
    }
   ],
   "source": [
    "import numpy as np\n",
    "a1=np.array([10,10,20,20,30,30])\n",
    "a2=np.array(([1,1],[2,3]))\n",
    "print(np.unique(a1))\n",
    "print(np.unique(a2))"
   ]
  },
  {
   "cell_type": "raw",
   "metadata": {},
   "source": [
    "Q56. Write the NumPy program to find the set exclusive-or of two arrays. Set exclusive-or will return the sorted, unique values that are in only one (not both) of the input arrays?\n",
    "\n",
    "Array1- [ 0 10 20 40 60 80] \n",
    "Array2- [10, 30, 40, 50, 70] \n",
    "\n",
    "Unique values that are in only one (not both) of the input arrays- \n",
    "[ 0 20 30 50 60 70 80]"
   ]
  },
  {
   "cell_type": "code",
   "execution_count": 94,
   "metadata": {},
   "outputs": [
    {
     "name": "stdout",
     "output_type": "stream",
     "text": [
      "[ 0 20 30 50 60 70 80]\n"
     ]
    }
   ],
   "source": [
    "import numpy as np\n",
    "a1=np.array([0,10,20,40,60,80])\n",
    "a2=np.array([10, 30, 40, 50, 70])\n",
    "print(np.setxor1d(a1,a2))"
   ]
  },
  {
   "cell_type": "raw",
   "metadata": {},
   "source": [
    "Q57. Write the NumPy program to test if all elements in an array evaluate to True ? \n",
    "Note: 0 evaluates to False in NumPy."
   ]
  },
  {
   "cell_type": "code",
   "execution_count": 100,
   "metadata": {},
   "outputs": [
    {
     "name": "stdout",
     "output_type": "stream",
     "text": [
      "False\n",
      "True\n",
      "False\n",
      "True\n"
     ]
    }
   ],
   "source": [
    "import numpy as np\n",
    "print(np.all([[True,False],[True,False]]))\n",
    "print(np.all([[True,True],[True,True]]))\n",
    "print(np.all([1,2,30,0]))\n",
    "print(np.all([10,20,-50]))"
   ]
  },
  {
   "cell_type": "raw",
   "metadata": {},
   "source": [
    "Q58 Write the NumPy program to test whether any array element along the given axis evaluates to True? \n",
    "Note: 0 evaluates to False in NumPy."
   ]
  },
  {
   "cell_type": "code",
   "execution_count": 102,
   "metadata": {},
   "outputs": [
    {
     "name": "stdout",
     "output_type": "stream",
     "text": [
      "True\n",
      "True\n",
      "True\n",
      "True\n",
      "False\n"
     ]
    }
   ],
   "source": [
    "import numpy as np\n",
    "print(np.any([[True,False],[True,False]]))\n",
    "print(np.any([[True,True],[True,True]]))\n",
    "print(np.any([1,2,30,0]))\n",
    "print(np.any([10,20,-50]))\n",
    "print(np.any(0))"
   ]
  },
  {
   "cell_type": "raw",
   "metadata": {},
   "source": [
    "Q59. Write the NumPy program to construct an array by repeating? \n",
    "Sample array- [1, 2, 3, 4] \n",
    "\n",
    "Expected Output- \n",
    "Original array [1, 2, 3, 4] \n",
    "Repeating 2 times [1 2 3 4 1 2 3 4]\n",
    "Repeating 3 times [1 2 3 4 1 2 3 4 1 2 3 4]"
   ]
  },
  {
   "cell_type": "code",
   "execution_count": 109,
   "metadata": {},
   "outputs": [
    {
     "name": "stdout",
     "output_type": "stream",
     "text": [
      "[1 2 3 4]\n",
      "[1 2 3 4 1 2 3 4]\n",
      "[1 2 3 4 1 2 3 4 1 2 3 4]\n"
     ]
    }
   ],
   "source": [
    "import numpy as np\n",
    "x=np.array([1,2,3,4])\n",
    "print(x)\n",
    "print(np.tile(x,2))\n",
    "print(np.tile(x,3))"
   ]
  },
  {
   "cell_type": "raw",
   "metadata": {},
   "source": [
    "Q60. Write the NumPy program to find the indices of the maximum and minimum values with the given axis of an array?\n",
    "Original array- [1 2 3 4 5 6] \n",
    "Maximum Values- 5 \n",
    "Minimum Values- 0"
   ]
  },
  {
   "cell_type": "code",
   "execution_count": 113,
   "metadata": {},
   "outputs": [
    {
     "name": "stdout",
     "output_type": "stream",
     "text": [
      "5\n",
      "0\n"
     ]
    }
   ],
   "source": [
    "import numpy as np\n",
    "x=np.array([1,2,3,4,5,6])\n",
    "print(np.argmax(x))\n",
    "print(np.argmin(x))"
   ]
  },
  {
   "cell_type": "raw",
   "metadata": {},
   "source": [
    "Q61. Write the NumPy program compare two arrays using numpy?\n",
    "Array a- [1 2] \n",
    "Array b- [4 5] \n",
    "a > b [False False] \n",
    "a >= b [False False] \n",
    "a < b [ True True] \n",
    "a <= b [ True True]"
   ]
  },
  {
   "cell_type": "code",
   "execution_count": 118,
   "metadata": {},
   "outputs": [
    {
     "name": "stdout",
     "output_type": "stream",
     "text": [
      "a > b\n",
      " [False False]\n",
      "a >= b\n",
      " [False False]\n",
      "a < b\n",
      " [ True  True]\n",
      "a <= b\n",
      " [ True  True]\n"
     ]
    }
   ],
   "source": [
    "import numpy as np\n",
    "a=np.array([1,2])\n",
    "b=np.array([4,5])\n",
    "print(\"a > b\\n\",np.greater(a,b))\n",
    "print(\"a >= b\\n\",np.greater_equal(a,b))\n",
    "print(\"a < b\\n\",np.less(a,b))\n",
    "print(\"a <= b\\n\",np.less_equal(a,b))"
   ]
  },
  {
   "cell_type": "raw",
   "metadata": {},
   "source": [
    "Q62. Write the NumPy program to sort an along the first, last axis of an array? \n",
    "\n",
    "Sample array- [[2,5],[4,4]] \n",
    "\n",
    "Expected Output- \n",
    "Original array: [[4 6] [2 1]] \n",
    "Sort along the first axis: [[2 1] [4 6]]\n",
    "Sort along the last axis- [[1 2] [4 6]]"
   ]
  },
  {
   "cell_type": "code",
   "execution_count": 124,
   "metadata": {},
   "outputs": [
    {
     "name": "stdout",
     "output_type": "stream",
     "text": [
      "Sort along the first axis:\n",
      "[[2 1]\n",
      " [4 6]]\n",
      "Sort along the last axis-\n",
      "[[4 6]\n",
      " [1 2]]\n"
     ]
    }
   ],
   "source": [
    "import numpy as np\n",
    "a=np.array([[4,6],[2,1]])\n",
    "print(\"Sort along the first axis:\")\n",
    "print(np.sort(a,axis=0))\n",
    "print(\"Sort along the last axis-\")\n",
    "print(np.sort(a,axis=1))"
   ]
  },
  {
   "cell_type": "raw",
   "metadata": {},
   "source": [
    "Q63. Write the NumPy program to sort pairs of first name and last name return their indices (first by last name, then by first name).\n",
    "first_names - ( Betsey, Shelley, Lanell, Genesis, Margery ) \n",
    "last_names - ( Battle, Brien, Plotner, Stahl, Woolum ) \n",
    "Expected Output- [1 3 2 4 0]"
   ]
  },
  {
   "cell_type": "code",
   "execution_count": 133,
   "metadata": {},
   "outputs": [
    {
     "name": "stdout",
     "output_type": "stream",
     "text": [
      "[0 1 2 3 4]\n"
     ]
    }
   ],
   "source": [
    "import numpy as np\n",
    "first_names= ('Betsey', 'Shelley', 'Lanell', 'Genesis', 'Margery') \n",
    "last_names= ('Battle', 'Brien', 'Plotner', 'Stahl', 'Woolum') \n",
    "x=np.lexsort((first_names,last_names))\n",
    "print(x)"
   ]
  },
  {
   "cell_type": "raw",
   "metadata": {},
   "source": [
    "Q64. Write the NumPy program to get the values and indices of the elements that are bigger than 10 in the given array? \n",
    "\n",
    "Original array- [[ 0 10 20] [20 30 40]] \n",
    "Values bigger than 10 = [20 20 30 40] \n",
    "Their indices are (array([0, 1, 1, 1]), array([2, 0, 1, 2]))"
   ]
  },
  {
   "cell_type": "code",
   "execution_count": 139,
   "metadata": {},
   "outputs": [
    {
     "name": "stdout",
     "output_type": "stream",
     "text": [
      "[20 20 30 40]\n",
      "(array([0, 1, 1, 1], dtype=int64), array([2, 0, 1, 2], dtype=int64))\n"
     ]
    }
   ],
   "source": [
    "import numpy as np\n",
    "a = np.array([[ 0,10,20],[20,30,40]])\n",
    "print(a[a>10])\n",
    "print(np.nonzero(a>10))"
   ]
  },
  {
   "cell_type": "raw",
   "metadata": {},
   "source": [
    "Q65. Write the NumPy program to find the memory size of a NumPy array?\n",
    "Expected Output- 128 bytes"
   ]
  },
  {
   "cell_type": "code",
   "execution_count": 148,
   "metadata": {},
   "outputs": [
    {
     "name": "stdout",
     "output_type": "stream",
     "text": [
      "128\n"
     ]
    }
   ],
   "source": [
    "import numpy as np\n",
    "a = np.zeros((4,4))\n",
    "print(a.size*a.itemsize)"
   ]
  },
  {
   "cell_type": "raw",
   "metadata": {},
   "source": [
    "Q66. Write the NumPy program to create an array of ones and an array of zeros?\n",
    "Expected Output- \n",
    "Create an array of zeros \n",
    "Default type is float\n",
    "[[ 0. 0.]] \n",
    "Type changes to int \n",
    "[[0 0]] \n",
    "Create an array of ones \n",
    "Default type is float [[ 1. 1.]] \n",
    "Type changes to int [[1 1]]"
   ]
  },
  {
   "cell_type": "code",
   "execution_count": 156,
   "metadata": {},
   "outputs": [
    {
     "name": "stdout",
     "output_type": "stream",
     "text": [
      "[[0. 0.]]\n",
      "[[0 0]]\n",
      "[[1. 1.]]\n",
      "[[1 1]]\n"
     ]
    }
   ],
   "source": [
    "import numpy as np\n",
    "print(np.zeros((1,2)))\n",
    "print(np.zeros((1,2),dtype=np.int))\n",
    "print(np.ones((1,2)))\n",
    "print(np.ones((1,2),dtype=np.int))"
   ]
  },
  {
   "cell_type": "raw",
   "metadata": {},
   "source": [
    "Q67. Write the NumPy program to change the dimension of an array? \n",
    "\n",
    "Expected Output- \n",
    "6 rows and 0 columns (6,) \n",
    "(3, 3) -> 3 rows and 3 columns \n",
    "[[1 2 3] [4 5 6] [7 8 9]] \n",
    "\n",
    "Change array shape to \n",
    "(3, 3) -> 3 rows and 3 columns \n",
    "[[1 2 3] [4 5 6] [7 8 9]]"
   ]
  },
  {
   "cell_type": "code",
   "execution_count": 171,
   "metadata": {},
   "outputs": [
    {
     "name": "stdout",
     "output_type": "stream",
     "text": [
      "[1 2 3 4 5 6]\n",
      "6 rows and 0 columns (6,)\n",
      "Reshaped array\n",
      " [[1 2]\n",
      " [3 4]\n",
      " [5 6]]\n"
     ]
    }
   ],
   "source": [
    "import numpy as np\n",
    "x=np.array([1,2,3,4,5,6])\n",
    "print(x)\n",
    "print(\"6 rows and 0 columns\",x.shape)\n",
    "x.shape=(3,2)\n",
    "print(\"Reshaped array\\n\",x)"
   ]
  },
  {
   "cell_type": "raw",
   "metadata": {},
   "source": [
    "Q68. Write the NumPy program to create a new shape to an array without changing its data ? \n",
    "Reshape 3x2- [[1 2] [3 4] [5 6]] \n",
    "Reshape 2x3- [[1 2 3] [4 5 6]]"
   ]
  },
  {
   "cell_type": "code",
   "execution_count": 175,
   "metadata": {},
   "outputs": [
    {
     "name": "stdout",
     "output_type": "stream",
     "text": [
      "[1 2 3 4 5 6]\n",
      "Reshape 3x2-\n",
      " [[1 2]\n",
      " [3 4]\n",
      " [5 6]]\n",
      "Reshape 2x3-\n",
      " [[1 2 3]\n",
      " [4 5 6]]\n"
     ]
    }
   ],
   "source": [
    "import numpy as np\n",
    "x=np.array([1,2,3,4,5,6])\n",
    "print(x)\n",
    "y=np.reshape(x,(3,2))\n",
    "z=np.reshape(x,(2,3))\n",
    "print(\"Reshape 3x2-\\n\",y)\n",
    "print(\"Reshape 2x3-\\n\",z)"
   ]
  },
  {
   "cell_type": "raw",
   "metadata": {},
   "source": [
    "Q69. Write the NumPy program to create a new array of 3*5, filled with 2?\n",
    "\n",
    "Expected Output- \n",
    "[[2 2 2 2 2] \n",
    "[2 2 2 2 2] \n",
    "[2 2 2 2 2]] \n",
    "[[2 2 2 2 2] \n",
    "[2 2 2 2 2] \n",
    "[2 2 2 2 2]]"
   ]
  },
  {
   "cell_type": "code",
   "execution_count": 181,
   "metadata": {},
   "outputs": [
    {
     "name": "stdout",
     "output_type": "stream",
     "text": [
      "[[2 2 2 2 2]\n",
      " [2 2 2 2 2]\n",
      " [2 2 2 2 2]]\n",
      "[[2 2 2 2 2]\n",
      " [2 2 2 2 2]\n",
      " [2 2 2 2 2]]\n"
     ]
    }
   ],
   "source": [
    "import numpy as np\n",
    "x=np.ones((3,5), dtype=np.uint)*2\n",
    "y=np.full((3,5),fill_value=2,dtype=np.int)\n",
    "print(x)\n",
    "print(y)"
   ]
  },
  {
   "cell_type": "raw",
   "metadata": {},
   "source": [
    "Q70. Write the NumPy program to create a 3-D array with ones on a diagonal and zeros elsewhere? \n",
    "Expected Output- [[ 1. 0. 0.] [ 0. 1. 0.] [ 0. 0. 1.]]"
   ]
  },
  {
   "cell_type": "code",
   "execution_count": 184,
   "metadata": {},
   "outputs": [
    {
     "name": "stdout",
     "output_type": "stream",
     "text": [
      "[[1. 0. 0.]\n",
      " [0. 1. 0.]\n",
      " [0. 0. 1.]]\n"
     ]
    }
   ],
   "source": [
    "import numpy as np\n",
    "x=np.eye(3)\n",
    "print(x)"
   ]
  },
  {
   "cell_type": "raw",
   "metadata": {},
   "source": [
    "Q71. Write the NumPy program to split an array of 14 elements into the 3 arrays and each of which has 2, 4, and 8 elements in original order?\n",
    "Expected Output- \n",
    "Original array- [ 1 2 3 4 5 6 7 8 9 10 11 12 13 14] \n",
    "After splitting- \n",
    "[array([1, 2]), array([3, 4, 5, 6]), array([ 7, 8, 9, 10, 11, 12, 13, 14])]"
   ]
  },
  {
   "cell_type": "code",
   "execution_count": null,
   "metadata": {},
   "outputs": [],
   "source": []
  }
 ],
 "metadata": {
  "kernelspec": {
   "display_name": "Python 3",
   "language": "python",
   "name": "python3"
  },
  "language_info": {
   "codemirror_mode": {
    "name": "ipython",
    "version": 3
   },
   "file_extension": ".py",
   "mimetype": "text/x-python",
   "name": "python",
   "nbconvert_exporter": "python",
   "pygments_lexer": "ipython3",
   "version": "3.7.3"
  }
 },
 "nbformat": 4,
 "nbformat_minor": 2
}
